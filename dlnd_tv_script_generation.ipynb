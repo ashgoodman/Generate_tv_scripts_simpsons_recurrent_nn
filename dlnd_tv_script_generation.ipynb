{
 "cells": [
  {
   "cell_type": "markdown",
   "metadata": {
    "deletable": true,
    "editable": true
   },
   "source": [
    "# TV Script Generation\n",
    "In this project, you'll generate your own [Simpsons](https://en.wikipedia.org/wiki/The_Simpsons) TV scripts using RNNs.  You'll be using part of the [Simpsons dataset](https://www.kaggle.com/wcukierski/the-simpsons-by-the-data) of scripts from 27 seasons.  The Neural Network you'll build will generate a new TV script for a scene at [Moe's Tavern](https://simpsonswiki.com/wiki/Moe's_Tavern).\n",
    "## Get the Data\n",
    "The data is already provided for you.  You'll be using a subset of the original dataset.  It consists of only the scenes in Moe's Tavern.  This doesn't include other versions of the tavern, like \"Moe's Cavern\", \"Flaming Moe's\", \"Uncle Moe's Family Feed-Bag\", etc.."
   ]
  },
  {
   "cell_type": "code",
   "execution_count": 1,
   "metadata": {
    "collapsed": false,
    "deletable": true,
    "editable": true
   },
   "outputs": [],
   "source": [
    "\"\"\"\n",
    "DON'T MODIFY ANYTHING IN THIS CELL\n",
    "\"\"\"\n",
    "import helper\n",
    "\n",
    "data_dir = './data/simpsons/moes_tavern_lines.txt'\n",
    "text = helper.load_data(data_dir)\n",
    "# Ignore notice, since we don't use it for analysing the data\n",
    "text = text[81:]"
   ]
  },
  {
   "cell_type": "markdown",
   "metadata": {
    "deletable": true,
    "editable": true
   },
   "source": [
    "## Explore the Data\n",
    "Play around with `view_sentence_range` to view different parts of the data."
   ]
  },
  {
   "cell_type": "code",
   "execution_count": 2,
   "metadata": {
    "collapsed": false,
    "deletable": true,
    "editable": true
   },
   "outputs": [
    {
     "name": "stdout",
     "output_type": "stream",
     "text": [
      "Dataset Stats\n",
      "Roughly the number of unique words: 11492\n",
      "Number of scenes: 262\n",
      "Average number of sentences in each scene: 15.248091603053435\n",
      "Number of lines: 4257\n",
      "Average number of words in each line: 11.50434578341555\n",
      "\n",
      "The sentences 10 to 30:\n",
      "Moe_Szyslak: Ah, isn't that nice. Now, there is a politician who cares.\n",
      "Barney_Gumble: If I ever vote, it'll be for him. (BELCH)\n",
      "\n",
      "\n",
      "Barney_Gumble: Hey Homer, how's your neighbor's store doing?\n",
      "Homer_Simpson: Lousy. He just sits there all day. He'd have a great job if he didn't own the place. (CHUCKLES)\n",
      "Moe_Szyslak: (STRUGGLING WITH CORKSCREW) Crummy right-handed corkscrews! What does he sell?\n",
      "Homer_Simpson: Uh, well actually, Moe...\n",
      "HOMER_(CONT'D: I dunno.\n",
      "\n",
      "\n",
      "Moe_Szyslak: Looks like this is the end.\n",
      "Barney_Gumble: That's all right. I couldn't have led a richer life.\n",
      "Barney_Gumble: So the next time somebody tells you county folk are good, honest people, you can spit in their faces for me!\n",
      "Lisa_Simpson: I will, Mr. Gumbel. But if you'll excuse me, I'm profiling my dad for the school paper. I thought it would be neat to follow him around for a day to see what makes him tick.\n",
      "Barney_Gumble: Oh, that's sweet. I used to follow my dad to a lot of bars too. (BELCH)\n",
      "Moe_Szyslak: Here you go. One beer, one chocolate milk.\n",
      "Lisa_Simpson: Uh, excuse me, I have the chocolate milk.\n",
      "Moe_Szyslak: Oh.\n",
      "Moe_Szyslak: What's the matter, Homer? The depressin' effects of alcohol usually don't kick in 'til closing time.\n"
     ]
    }
   ],
   "source": [
    "view_sentence_range = (10, 30)\n",
    "\n",
    "\"\"\"\n",
    "DON'T MODIFY ANYTHING IN THIS CELL\n",
    "\"\"\"\n",
    "import numpy as np\n",
    "\n",
    "print('Dataset Stats')\n",
    "print('Roughly the number of unique words: {}'.format(len({word: None for word in text.split()})))\n",
    "scenes = text.split('\\n\\n')\n",
    "print('Number of scenes: {}'.format(len(scenes)))\n",
    "sentence_count_scene = [scene.count('\\n') for scene in scenes]\n",
    "print('Average number of sentences in each scene: {}'.format(np.average(sentence_count_scene)))\n",
    "\n",
    "sentences = [sentence for scene in scenes for sentence in scene.split('\\n')]\n",
    "print('Number of lines: {}'.format(len(sentences)))\n",
    "word_count_sentence = [len(sentence.split()) for sentence in sentences]\n",
    "print('Average number of words in each line: {}'.format(np.average(word_count_sentence)))\n",
    "\n",
    "print()\n",
    "print('The sentences {} to {}:'.format(*view_sentence_range))\n",
    "print('\\n'.join(text.split('\\n')[view_sentence_range[0]:view_sentence_range[1]]))"
   ]
  },
  {
   "cell_type": "markdown",
   "metadata": {
    "deletable": true,
    "editable": true
   },
   "source": [
    "## Implement Preprocessing Functions\n",
    "The first thing to do to any dataset is preprocessing.  Implement the following preprocessing functions below:\n",
    "- Lookup Table\n",
    "- Tokenize Punctuation\n",
    "\n",
    "### Lookup Table\n",
    "To create a word embedding, you first need to transform the words to ids.  In this function, create two dictionaries:\n",
    "- Dictionary to go from the words to an id, we'll call `vocab_to_int`\n",
    "- Dictionary to go from the id to word, we'll call `int_to_vocab`\n",
    "\n",
    "Return these dictionaries in the following tuple `(vocab_to_int, int_to_vocab)`"
   ]
  },
  {
   "cell_type": "code",
   "execution_count": 20,
   "metadata": {
    "collapsed": false,
    "deletable": true,
    "editable": true
   },
   "outputs": [
    {
     "name": "stdout",
     "output_type": "stream",
     "text": [
      "Tests Passed\n"
     ]
    }
   ],
   "source": [
    "import numpy as np\n",
    "import problem_unittests as tests\n",
    "\n",
    "def create_lookup_tables(text):\n",
    "    \"\"\"\n",
    "    Create lookup tables for vocabulary\n",
    "    :param text: The text of tv scripts split into words\n",
    "    :return: A tuple of dicts (vocab_to_int, int_to_vocab)\n",
    "    \"\"\"\n",
    "    vocab_to_int = {word:integer for integer, word in enumerate(set(text))}\n",
    "    int_to_vocab = {integer:word for integer, word in enumerate(set(text))}\n",
    "    return (vocab_to_int, int_to_vocab)\n",
    "\n",
    "\n",
    "\"\"\"\n",
    "DON'T MODIFY ANYTHING IN THIS CELL THAT IS BELOW THIS LINE\n",
    "\"\"\"\n",
    "tests.test_create_lookup_tables(create_lookup_tables)"
   ]
  },
  {
   "cell_type": "markdown",
   "metadata": {
    "deletable": true,
    "editable": true
   },
   "source": [
    "### Tokenize Punctuation\n",
    "We'll be splitting the script into a word array using spaces as delimiters.  However, punctuations like periods and exclamation marks make it hard for the neural network to distinguish between the word \"bye\" and \"bye!\".\n",
    "\n",
    "Implement the function `token_lookup` to return a dict that will be used to tokenize symbols like \"!\" into \"||Exclamation_Mark||\".  Create a dictionary for the following symbols where the symbol is the key and value is the token:\n",
    "- Period ( . )\n",
    "- Comma ( , )\n",
    "- Quotation Mark ( \" )\n",
    "- Semicolon ( ; )\n",
    "- Exclamation mark ( ! )\n",
    "- Question mark ( ? )\n",
    "- Left Parentheses ( ( )\n",
    "- Right Parentheses ( ) )\n",
    "- Dash ( -- )\n",
    "- Return ( \\n )\n",
    "\n",
    "This dictionary will be used to token the symbols and add the delimiter (space) around it.  This separates the symbols as it's own word, making it easier for the neural network to predict on the next word. Make sure you don't use a token that could be confused as a word. Instead of using the token \"dash\", try using something like \"||dash||\"."
   ]
  },
  {
   "cell_type": "code",
   "execution_count": 4,
   "metadata": {
    "collapsed": false,
    "deletable": true,
    "editable": true
   },
   "outputs": [
    {
     "name": "stdout",
     "output_type": "stream",
     "text": [
      "Tests Passed\n"
     ]
    }
   ],
   "source": [
    "def token_lookup():\n",
    "    \"\"\"\n",
    "    Generate a dict to turn punctuation into a token.\n",
    "    :return: Tokenize dictionary where the key is the punctuation and the value is the token\n",
    "    \"\"\"\n",
    "    # TODO: Implement Function\n",
    "    return {\n",
    "        '.': '||Period||',\n",
    "        ',': '||Comma||',\n",
    "        '\"': '||Quotation_Mark||',\n",
    "        ';': '||Semicolon||',\n",
    "        '!': '||Exclamation_mark||',\n",
    "        '?': '||Question_mark||',\n",
    "        '(': '||Left_Parentheses||',\n",
    "        ')': '||Right_Parentheses||',\n",
    "        '--': '||Dash||',\n",
    "        \"\\n\": '||Return||'\n",
    "    }\n",
    "\n",
    "\"\"\"\n",
    "DON'T MODIFY ANYTHING IN THIS CELL THAT IS BELOW THIS LINE\n",
    "\"\"\"\n",
    "tests.test_tokenize(token_lookup)"
   ]
  },
  {
   "cell_type": "markdown",
   "metadata": {
    "deletable": true,
    "editable": true
   },
   "source": [
    "## Preprocess all the data and save it\n",
    "Running the code cell below will preprocess all the data and save it to file."
   ]
  },
  {
   "cell_type": "code",
   "execution_count": 21,
   "metadata": {
    "collapsed": false,
    "deletable": true,
    "editable": true
   },
   "outputs": [],
   "source": [
    "\"\"\"\n",
    "DON'T MODIFY ANYTHING IN THIS CELL\n",
    "\"\"\"\n",
    "# Preprocess Training, Validation, and Testing Data\n",
    "helper.preprocess_and_save_data(data_dir, token_lookup, create_lookup_tables)"
   ]
  },
  {
   "cell_type": "markdown",
   "metadata": {
    "deletable": true,
    "editable": true
   },
   "source": [
    "# Check Point\n",
    "This is your first checkpoint. If you ever decide to come back to this notebook or have to restart the notebook, you can start from here. The preprocessed data has been saved to disk."
   ]
  },
  {
   "cell_type": "code",
   "execution_count": 22,
   "metadata": {
    "collapsed": false,
    "deletable": true,
    "editable": true
   },
   "outputs": [],
   "source": [
    "\"\"\"\n",
    "DON'T MODIFY ANYTHING IN THIS CELL\n",
    "\"\"\"\n",
    "import helper\n",
    "import numpy as np\n",
    "import problem_unittests as tests\n",
    "\n",
    "int_text, vocab_to_int, int_to_vocab, token_dict = helper.load_preprocess()"
   ]
  },
  {
   "cell_type": "markdown",
   "metadata": {
    "deletable": true,
    "editable": true
   },
   "source": [
    "## Build the Neural Network\n",
    "You'll build the components necessary to build a RNN by implementing the following functions below:\n",
    "- get_inputs\n",
    "- get_init_cell\n",
    "- get_embed\n",
    "- build_rnn\n",
    "- build_nn\n",
    "- get_batches\n",
    "\n",
    "### Check the Version of TensorFlow and Access to GPU"
   ]
  },
  {
   "cell_type": "code",
   "execution_count": 23,
   "metadata": {
    "collapsed": false,
    "deletable": true,
    "editable": true
   },
   "outputs": [
    {
     "name": "stdout",
     "output_type": "stream",
     "text": [
      "TensorFlow Version: 1.0.1\n"
     ]
    },
    {
     "name": "stderr",
     "output_type": "stream",
     "text": [
      "/home/ash/anaconda3/envs/dlnd-tf-lab/lib/python3.4/site-packages/ipykernel/__main__.py:14: UserWarning: No GPU found. Please use a GPU to train your neural network.\n"
     ]
    }
   ],
   "source": [
    "\"\"\"\n",
    "DON'T MODIFY ANYTHING IN THIS CELL\n",
    "\"\"\"\n",
    "from distutils.version import LooseVersion\n",
    "import warnings\n",
    "import tensorflow as tf\n",
    "\n",
    "# Check TensorFlow Version\n",
    "assert LooseVersion(tf.__version__) >= LooseVersion('1.0'), 'Please use TensorFlow version 1.0 or newer'\n",
    "print('TensorFlow Version: {}'.format(tf.__version__))\n",
    "\n",
    "# Check for a GPU\n",
    "if not tf.test.gpu_device_name():\n",
    "    warnings.warn('No GPU found. Please use a GPU to train your neural network.')\n",
    "else:\n",
    "    print('Default GPU Device: {}'.format(tf.test.gpu_device_name()))"
   ]
  },
  {
   "cell_type": "markdown",
   "metadata": {},
   "source": [
    "#### NO GPU\n",
    "\n",
    "My local machine doesn't have nvidia\n",
    "\n",
    "The udacity aws g2.2xlarge instance throws the same error as above even though it DOES have a nvidia GPU\n",
    "\n",
    "Floyd never sent me a confirmation email so I couldn't use their systems\n",
    "\n",
    "So, I ran it locally, despite not having the required GPU"
   ]
  },
  {
   "cell_type": "markdown",
   "metadata": {
    "deletable": true,
    "editable": true
   },
   "source": [
    "### Input\n",
    "Implement the `get_inputs()` function to create TF Placeholders for the Neural Network.  It should create the following placeholders:\n",
    "- Input text placeholder named \"input\" using the [TF Placeholder](https://www.tensorflow.org/api_docs/python/tf/placeholder) `name` parameter.\n",
    "- Targets placeholder\n",
    "- Learning Rate placeholder\n",
    "\n",
    "Return the placeholders in the following tuple `(Input, Targets, LearningRate)`"
   ]
  },
  {
   "cell_type": "code",
   "execution_count": 24,
   "metadata": {
    "collapsed": false,
    "deletable": true,
    "editable": true
   },
   "outputs": [
    {
     "name": "stdout",
     "output_type": "stream",
     "text": [
      "Tests Passed\n"
     ]
    }
   ],
   "source": [
    "def get_inputs():\n",
    "    \"\"\"\n",
    "    Create TF Placeholders for input, targets, and learning rate.\n",
    "    :return: Tuple (input, targets, learning rate)\n",
    "    \"\"\"\n",
    "    # TODO: Implement Function\n",
    "    inputs = tf.placeholder(tf.int32, shape=[None, None], name='input')\n",
    "    targets = tf.placeholder(tf.int32, shape=[None, None], name='targets')\n",
    "    learning_rate = tf.placeholder(tf.float32, name='learning_rate')\n",
    "    return (inputs, targets, learning_rate)\n",
    "\n",
    "\n",
    "\"\"\"\n",
    "DON'T MODIFY ANYTHING IN THIS CELL THAT IS BELOW THIS LINE\n",
    "\"\"\"\n",
    "tests.test_get_inputs(get_inputs)"
   ]
  },
  {
   "cell_type": "markdown",
   "metadata": {
    "deletable": true,
    "editable": true
   },
   "source": [
    "### Build RNN Cell and Initialize\n",
    "Stack one or more [`BasicLSTMCells`](https://www.tensorflow.org/api_docs/python/tf/contrib/rnn/BasicLSTMCell) in a [`MultiRNNCell`](https://www.tensorflow.org/api_docs/python/tf/contrib/rnn/MultiRNNCell).\n",
    "- The Rnn size should be set using `rnn_size`\n",
    "- Initalize Cell State using the MultiRNNCell's [`zero_state()`](https://www.tensorflow.org/api_docs/python/tf/contrib/rnn/MultiRNNCell#zero_state) function\n",
    "    - Apply the name \"initial_state\" to the initial state using [`tf.identity()`](https://www.tensorflow.org/api_docs/python/tf/identity)\n",
    "\n",
    "Return the cell and initial state in the following tuple `(Cell, InitialState)`"
   ]
  },
  {
   "cell_type": "code",
   "execution_count": 25,
   "metadata": {
    "collapsed": false,
    "deletable": true,
    "editable": true
   },
   "outputs": [
    {
     "name": "stdout",
     "output_type": "stream",
     "text": [
      "Tests Passed\n"
     ]
    }
   ],
   "source": [
    "def get_init_cell(batch_size, rnn_size):\n",
    "    \"\"\"\n",
    "    Create an RNN Cell and initialize it.\n",
    "    :param batch_size: Size of batches\n",
    "    :param rnn_size: Size of RNNs\n",
    "    :return: Tuple (cell, initialize state)\n",
    "    \"\"\"\n",
    "    # TODO: Implement Function\n",
    "    keep_prob = 0.8\n",
    "    lstm_layers = 2\n",
    "    lstm = tf.contrib.rnn.BasicLSTMCell(rnn_size)\n",
    "    drop = tf.contrib.rnn.DropoutWrapper(lstm, output_keep_prob=keep_prob)\n",
    "    cell = tf.contrib.rnn.MultiRNNCell([drop] * lstm_layers)\n",
    "    initial_state = cell.zero_state(batch_size, tf.float32)\n",
    "    initial_state = tf.identity(initial_state,name=\"initial_state\")\n",
    "    return (cell, initial_state)\n",
    "\n",
    "\n",
    "\"\"\"\n",
    "DON'T MODIFY ANYTHING IN THIS CELL THAT IS BELOW THIS LINE\n",
    "\"\"\"\n",
    "tests.test_get_init_cell(get_init_cell)"
   ]
  },
  {
   "cell_type": "markdown",
   "metadata": {
    "deletable": true,
    "editable": true
   },
   "source": [
    "### Word Embedding\n",
    "Apply embedding to `input_data` using TensorFlow.  Return the embedded sequence."
   ]
  },
  {
   "cell_type": "code",
   "execution_count": 26,
   "metadata": {
    "collapsed": false,
    "deletable": true,
    "editable": true
   },
   "outputs": [
    {
     "name": "stdout",
     "output_type": "stream",
     "text": [
      "Tests Passed\n"
     ]
    }
   ],
   "source": [
    "def get_embed(input_data, vocab_size, embed_dim):\n",
    "    \"\"\"\n",
    "    Create embedding for <input_data>.\n",
    "    :param input_data: TF placeholder for text input.\n",
    "    :param vocab_size: Number of words in vocabulary.\n",
    "    :param embed_dim: Number of embedding dimensions\n",
    "    :return: Embedded input.\n",
    "    \"\"\"\n",
    "    # TODO: Implement Function\n",
    "    embedding = tf.Variable(tf.random_uniform((vocab_size, embed_dim), -1, 1))\n",
    "    embed = tf.nn.embedding_lookup(embedding, input_data)\n",
    "    return embed\n",
    "\n",
    "\n",
    "\"\"\"\n",
    "DON'T MODIFY ANYTHING IN THIS CELL THAT IS BELOW THIS LINE\n",
    "\"\"\"\n",
    "tests.test_get_embed(get_embed)"
   ]
  },
  {
   "cell_type": "markdown",
   "metadata": {
    "deletable": true,
    "editable": true
   },
   "source": [
    "### Build RNN\n",
    "You created a RNN Cell in the `get_init_cell()` function.  Time to use the cell to create a RNN.\n",
    "- Build the RNN using the [`tf.nn.dynamic_rnn()`](https://www.tensorflow.org/api_docs/python/tf/nn/dynamic_rnn)\n",
    " - Apply the name \"final_state\" to the final state using [`tf.identity()`](https://www.tensorflow.org/api_docs/python/tf/identity)\n",
    "\n",
    "Return the outputs and final_state state in the following tuple `(Outputs, FinalState)` "
   ]
  },
  {
   "cell_type": "code",
   "execution_count": 27,
   "metadata": {
    "collapsed": false,
    "deletable": true,
    "editable": true
   },
   "outputs": [
    {
     "name": "stdout",
     "output_type": "stream",
     "text": [
      "Tests Passed\n"
     ]
    }
   ],
   "source": [
    "def build_rnn(cell, inputs):\n",
    "    \"\"\"\n",
    "    Create a RNN using a RNN Cell\n",
    "    :param cell: RNN Cell\n",
    "    :param inputs: Input text data\n",
    "    :return: Tuple (Outputs, Final State)\n",
    "    \"\"\"\n",
    "    # TODO: Implement Function\n",
    "    outputs, final_state = tf.nn.dynamic_rnn(cell, inputs, dtype=tf.float32) \n",
    "    final_state = tf.identity(final_state, 'final_state')\n",
    "    return (outputs, final_state)                                                \n",
    "\n",
    "\n",
    "\"\"\"\n",
    "DON'T MODIFY ANYTHING IN THIS CELL THAT IS BELOW THIS LINE\n",
    "\"\"\"\n",
    "tests.test_build_rnn(build_rnn)"
   ]
  },
  {
   "cell_type": "markdown",
   "metadata": {
    "deletable": true,
    "editable": true
   },
   "source": [
    "### Build the Neural Network\n",
    "Apply the functions you implemented above to:\n",
    "- Apply embedding to `input_data` using your `get_embed(input_data, vocab_size, embed_dim)` function.\n",
    "- Build RNN using `cell` and your `build_rnn(cell, inputs)` function.\n",
    "- Apply a fully connected layer with a linear activation and `vocab_size` as the number of outputs.\n",
    "\n",
    "Return the logits and final state in the following tuple (Logits, FinalState) "
   ]
  },
  {
   "cell_type": "code",
   "execution_count": 28,
   "metadata": {
    "collapsed": false,
    "deletable": true,
    "editable": true
   },
   "outputs": [
    {
     "name": "stdout",
     "output_type": "stream",
     "text": [
      "Tests Passed\n"
     ]
    }
   ],
   "source": [
    "def build_nn(cell, rnn_size, input_data, vocab_size, embed_dim):\n",
    "    \"\"\"\n",
    "    Build part of the neural network\n",
    "    :param cell: RNN cell\n",
    "    :param rnn_size: Size of rnns\n",
    "    :param input_data: Input data\n",
    "    :param vocab_size: Vocabulary size\n",
    "    :param embed_dim: Number of embedding dimensions\n",
    "    :return: Tuple (Logits, FinalState)\n",
    "    \"\"\"\n",
    "    # TODO: Implement Function\n",
    "    embed=get_embed(input_data, vocab_size, rnn_size)\n",
    "    outputs,final_state=build_rnn(cell, embed)\n",
    "    logits = tf.contrib.layers.fully_connected(outputs, vocab_size, activation_fn=None)\n",
    "    return (logits, final_state)\n",
    "\n",
    "\n",
    "\"\"\"\n",
    "DON'T MODIFY ANYTHING IN THIS CELL THAT IS BELOW THIS LINE\n",
    "\"\"\"\n",
    "tests.test_build_nn(build_nn)"
   ]
  },
  {
   "cell_type": "markdown",
   "metadata": {
    "deletable": true,
    "editable": true
   },
   "source": [
    "### Batches\n",
    "Implement `get_batches` to create batches of input and targets using `int_text`.  The batches should be a Numpy array with the shape `(number of batches, 2, batch size, sequence length)`. Each batch contains two elements:\n",
    "- The first element is a single batch of **input** with the shape `[batch size, sequence length]`\n",
    "- The second element is a single batch of **targets** with the shape `[batch size, sequence length]`\n",
    "\n",
    "If you can't fill the last batch with enough data, drop the last batch.\n",
    "\n",
    "For exmple, `get_batches([1, 2, 3, 4, 5, 6, 7, 8, 9, 10, 11, 12, 13, 14, 15], 2, 3)` would return a Numpy array of the following:\n",
    "```\n",
    "[\n",
    "  # First Batch\n",
    "  [\n",
    "    # Batch of Input\n",
    "    [[ 1  2  3], [ 7  8  9]],\n",
    "    # Batch of targets\n",
    "    [[ 2  3  4], [ 8  9 10]]\n",
    "  ],\n",
    " \n",
    "  # Second Batch\n",
    "  [\n",
    "    # Batch of Input\n",
    "    [[ 4  5  6], [10 11 12]],\n",
    "    # Batch of targets\n",
    "    [[ 5  6  7], [11 12 13]]\n",
    "  ]\n",
    "]\n",
    "```"
   ]
  },
  {
   "cell_type": "code",
   "execution_count": 29,
   "metadata": {
    "collapsed": false,
    "deletable": true,
    "editable": true
   },
   "outputs": [
    {
     "name": "stdout",
     "output_type": "stream",
     "text": [
      "Tests Passed\n"
     ]
    }
   ],
   "source": [
    "def get_batches(int_text, batch_size, seq_length):\n",
    "    \"\"\"\n",
    "    Return batches of input and target\n",
    "    :param int_text: Text with the words replaced by their ids\n",
    "    :param batch_size: The size of batch\n",
    "    :param seq_length: The length of sequence\n",
    "    :return: Batches as a Numpy array\n",
    "    \"\"\"\n",
    "    # TODO: Implement Function\n",
    "    num_batches = len(int_text) // (batch_size * seq_length)\n",
    "    \n",
    "    batch = []\n",
    "    \n",
    "    for x in range(num_batches):\n",
    "        inputs = []\n",
    "        targets = []\n",
    "        \n",
    "        for y in range(batch_size):\n",
    "            sequence = x * seq_length + y * seq_length\n",
    "            inputs.append(int_text[sequence:sequence + seq_length])\n",
    "            targets.append(int_text[sequence + 1:sequence + seq_length + 1])\n",
    "            \n",
    "        batch.append([inputs, targets])\n",
    "        \n",
    "    return np.array(batch)\n",
    "\n",
    "\n",
    "\"\"\"\n",
    "DON'T MODIFY ANYTHING IN THIS CELL THAT IS BELOW THIS LINE\n",
    "\"\"\"\n",
    "tests.test_get_batches(get_batches)"
   ]
  },
  {
   "cell_type": "markdown",
   "metadata": {
    "deletable": true,
    "editable": true
   },
   "source": [
    "## Neural Network Training\n",
    "### Hyperparameters\n",
    "Tune the following parameters:\n",
    "\n",
    "- Set `num_epochs` to the number of epochs.\n",
    "- Set `batch_size` to the batch size.\n",
    "- Set `rnn_size` to the size of the RNNs.\n",
    "- Set `embed_dim` to the size of the embedding.\n",
    "- Set `seq_length` to the length of sequence.\n",
    "- Set `learning_rate` to the learning rate.\n",
    "- Set `show_every_n_batches` to the number of batches the neural network should print progress."
   ]
  },
  {
   "cell_type": "code",
   "execution_count": 78,
   "metadata": {
    "collapsed": true,
    "deletable": true,
    "editable": true
   },
   "outputs": [],
   "source": [
    "# Number of Epochs\n",
    "num_epochs = 250\n",
    "# Batch Size\n",
    "batch_size = 1000\n",
    "# RNN Size\n",
    "rnn_size = 512\n",
    "# Embedding Dimension Size\n",
    "embed_dim = 256\n",
    "# Sequence Length\n",
    "seq_length = 25\n",
    "# Learning Rate\n",
    "learning_rate = 0.005\n",
    "# Show stats for every n number of batches\n",
    "show_every_n_batches = 1\n",
    "\n",
    "\"\"\"\n",
    "DON'T MODIFY ANYTHING IN THIS CELL THAT IS BELOW THIS LINE\n",
    "\"\"\"\n",
    "save_dir = './save'"
   ]
  },
  {
   "cell_type": "markdown",
   "metadata": {
    "deletable": true,
    "editable": true
   },
   "source": [
    "### Build the Graph\n",
    "Build the graph using the neural network you implemented."
   ]
  },
  {
   "cell_type": "code",
   "execution_count": 79,
   "metadata": {
    "collapsed": false,
    "deletable": true,
    "editable": true
   },
   "outputs": [],
   "source": [
    "\"\"\"\n",
    "DON'T MODIFY ANYTHING IN THIS CELL\n",
    "\"\"\"\n",
    "from tensorflow.contrib import seq2seq\n",
    "\n",
    "train_graph = tf.Graph()\n",
    "with train_graph.as_default():\n",
    "    vocab_size = len(int_to_vocab)\n",
    "    input_text, targets, lr = get_inputs()\n",
    "    input_data_shape = tf.shape(input_text)\n",
    "    cell, initial_state = get_init_cell(input_data_shape[0], rnn_size)\n",
    "    logits, final_state = build_nn(cell, rnn_size, input_text, vocab_size, embed_dim)\n",
    "\n",
    "    # Probabilities for generating words\n",
    "    probs = tf.nn.softmax(logits, name='probs')\n",
    "\n",
    "    # Loss function\n",
    "    cost = seq2seq.sequence_loss(\n",
    "        logits,\n",
    "        targets,\n",
    "        tf.ones([input_data_shape[0], input_data_shape[1]]))\n",
    "\n",
    "    # Optimizer\n",
    "    optimizer = tf.train.AdamOptimizer(lr)\n",
    "\n",
    "    # Gradient Clipping\n",
    "    gradients = optimizer.compute_gradients(cost)\n",
    "    capped_gradients = [(tf.clip_by_value(grad, -1., 1.), var) for grad, var in gradients]\n",
    "    train_op = optimizer.apply_gradients(capped_gradients)"
   ]
  },
  {
   "cell_type": "markdown",
   "metadata": {
    "deletable": true,
    "editable": true
   },
   "source": [
    "## Train\n",
    "Train the neural network on the preprocessed data.  If you have a hard time getting a good loss, check the [forms](https://discussions.udacity.com/) to see if anyone is having the same problem."
   ]
  },
  {
   "cell_type": "code",
   "execution_count": 80,
   "metadata": {
    "collapsed": false,
    "deletable": true,
    "editable": true,
    "scrolled": false
   },
   "outputs": [
    {
     "name": "stdout",
     "output_type": "stream",
     "text": [
      "Epoch   0 Batch    0/2   train_loss = 8.820\n",
      "Epoch   0 Batch    1/2   train_loss = 8.379\n",
      "Epoch   1 Batch    0/2   train_loss = 6.657\n",
      "Epoch   1 Batch    1/2   train_loss = 6.097\n",
      "Epoch   2 Batch    0/2   train_loss = 6.081\n",
      "Epoch   2 Batch    1/2   train_loss = 6.130\n",
      "Epoch   3 Batch    0/2   train_loss = 6.023\n",
      "Epoch   3 Batch    1/2   train_loss = 5.922\n",
      "Epoch   4 Batch    0/2   train_loss = 5.892\n",
      "Epoch   4 Batch    1/2   train_loss = 5.891\n",
      "Epoch   5 Batch    0/2   train_loss = 5.882\n",
      "Epoch   5 Batch    1/2   train_loss = 5.860\n",
      "Epoch   6 Batch    0/2   train_loss = 5.838\n",
      "Epoch   6 Batch    1/2   train_loss = 5.824\n",
      "Epoch   7 Batch    0/2   train_loss = 5.815\n",
      "Epoch   7 Batch    1/2   train_loss = 5.809\n",
      "Epoch   8 Batch    0/2   train_loss = 5.806\n",
      "Epoch   8 Batch    1/2   train_loss = 5.795\n",
      "Epoch   9 Batch    0/2   train_loss = 5.784\n",
      "Epoch   9 Batch    1/2   train_loss = 5.770\n",
      "Epoch  10 Batch    0/2   train_loss = 5.767\n",
      "Epoch  10 Batch    1/2   train_loss = 5.760\n",
      "Epoch  11 Batch    0/2   train_loss = 5.757\n",
      "Epoch  11 Batch    1/2   train_loss = 5.750\n",
      "Epoch  12 Batch    0/2   train_loss = 5.741\n",
      "Epoch  12 Batch    1/2   train_loss = 5.730\n",
      "Epoch  13 Batch    0/2   train_loss = 5.718\n",
      "Epoch  13 Batch    1/2   train_loss = 5.712\n",
      "Epoch  14 Batch    0/2   train_loss = 5.701\n",
      "Epoch  14 Batch    1/2   train_loss = 5.687\n",
      "Epoch  15 Batch    0/2   train_loss = 5.676\n",
      "Epoch  15 Batch    1/2   train_loss = 5.663\n",
      "Epoch  16 Batch    0/2   train_loss = 5.649\n",
      "Epoch  16 Batch    1/2   train_loss = 5.638\n",
      "Epoch  17 Batch    0/2   train_loss = 5.624\n",
      "Epoch  17 Batch    1/2   train_loss = 5.610\n",
      "Epoch  18 Batch    0/2   train_loss = 5.597\n",
      "Epoch  18 Batch    1/2   train_loss = 5.573\n",
      "Epoch  19 Batch    0/2   train_loss = 5.565\n",
      "Epoch  19 Batch    1/2   train_loss = 5.546\n",
      "Epoch  20 Batch    0/2   train_loss = 5.529\n",
      "Epoch  20 Batch    1/2   train_loss = 5.512\n",
      "Epoch  21 Batch    0/2   train_loss = 5.491\n",
      "Epoch  21 Batch    1/2   train_loss = 5.469\n",
      "Epoch  22 Batch    0/2   train_loss = 5.456\n",
      "Epoch  22 Batch    1/2   train_loss = 5.435\n",
      "Epoch  23 Batch    0/2   train_loss = 5.413\n",
      "Epoch  23 Batch    1/2   train_loss = 5.396\n",
      "Epoch  24 Batch    0/2   train_loss = 5.375\n",
      "Epoch  24 Batch    1/2   train_loss = 5.357\n",
      "Epoch  25 Batch    0/2   train_loss = 5.333\n",
      "Epoch  25 Batch    1/2   train_loss = 5.302\n",
      "Epoch  26 Batch    0/2   train_loss = 5.286\n",
      "Epoch  26 Batch    1/2   train_loss = 5.259\n",
      "Epoch  27 Batch    0/2   train_loss = 5.238\n",
      "Epoch  27 Batch    1/2   train_loss = 5.209\n",
      "Epoch  28 Batch    0/2   train_loss = 5.193\n",
      "Epoch  28 Batch    1/2   train_loss = 5.161\n",
      "Epoch  29 Batch    0/2   train_loss = 5.138\n",
      "Epoch  29 Batch    1/2   train_loss = 5.112\n",
      "Epoch  30 Batch    0/2   train_loss = 5.091\n",
      "Epoch  30 Batch    1/2   train_loss = 5.065\n",
      "Epoch  31 Batch    0/2   train_loss = 5.044\n",
      "Epoch  31 Batch    1/2   train_loss = 5.022\n",
      "Epoch  32 Batch    0/2   train_loss = 4.997\n",
      "Epoch  32 Batch    1/2   train_loss = 4.977\n",
      "Epoch  33 Batch    0/2   train_loss = 4.955\n",
      "Epoch  33 Batch    1/2   train_loss = 4.940\n",
      "Epoch  34 Batch    0/2   train_loss = 4.914\n",
      "Epoch  34 Batch    1/2   train_loss = 4.896\n",
      "Epoch  35 Batch    0/2   train_loss = 4.872\n",
      "Epoch  35 Batch    1/2   train_loss = 4.853\n",
      "Epoch  36 Batch    0/2   train_loss = 4.833\n",
      "Epoch  36 Batch    1/2   train_loss = 4.818\n",
      "Epoch  37 Batch    0/2   train_loss = 4.794\n",
      "Epoch  37 Batch    1/2   train_loss = 4.779\n",
      "Epoch  38 Batch    0/2   train_loss = 4.756\n",
      "Epoch  38 Batch    1/2   train_loss = 4.737\n",
      "Epoch  39 Batch    0/2   train_loss = 4.715\n",
      "Epoch  39 Batch    1/2   train_loss = 4.705\n",
      "Epoch  40 Batch    0/2   train_loss = 4.684\n",
      "Epoch  40 Batch    1/2   train_loss = 4.655\n",
      "Epoch  41 Batch    0/2   train_loss = 4.639\n",
      "Epoch  41 Batch    1/2   train_loss = 4.623\n",
      "Epoch  42 Batch    0/2   train_loss = 4.598\n",
      "Epoch  42 Batch    1/2   train_loss = 4.580\n",
      "Epoch  43 Batch    0/2   train_loss = 4.565\n",
      "Epoch  43 Batch    1/2   train_loss = 4.534\n",
      "Epoch  44 Batch    0/2   train_loss = 4.520\n",
      "Epoch  44 Batch    1/2   train_loss = 4.501\n",
      "Epoch  45 Batch    0/2   train_loss = 4.476\n",
      "Epoch  45 Batch    1/2   train_loss = 4.459\n",
      "Epoch  46 Batch    0/2   train_loss = 4.450\n",
      "Epoch  46 Batch    1/2   train_loss = 4.434\n",
      "Epoch  47 Batch    0/2   train_loss = 4.409\n",
      "Epoch  47 Batch    1/2   train_loss = 4.397\n",
      "Epoch  48 Batch    0/2   train_loss = 4.369\n",
      "Epoch  48 Batch    1/2   train_loss = 4.353\n",
      "Epoch  49 Batch    0/2   train_loss = 4.342\n",
      "Epoch  49 Batch    1/2   train_loss = 4.319\n",
      "Epoch  50 Batch    0/2   train_loss = 4.303\n",
      "Epoch  50 Batch    1/2   train_loss = 4.284\n",
      "Epoch  51 Batch    0/2   train_loss = 4.266\n",
      "Epoch  51 Batch    1/2   train_loss = 4.254\n",
      "Epoch  52 Batch    0/2   train_loss = 4.241\n",
      "Epoch  52 Batch    1/2   train_loss = 4.216\n",
      "Epoch  53 Batch    0/2   train_loss = 4.204\n",
      "Epoch  53 Batch    1/2   train_loss = 4.185\n",
      "Epoch  54 Batch    0/2   train_loss = 4.166\n",
      "Epoch  54 Batch    1/2   train_loss = 4.158\n",
      "Epoch  55 Batch    0/2   train_loss = 4.139\n",
      "Epoch  55 Batch    1/2   train_loss = 4.122\n",
      "Epoch  56 Batch    0/2   train_loss = 4.105\n",
      "Epoch  56 Batch    1/2   train_loss = 4.090\n",
      "Epoch  57 Batch    0/2   train_loss = 4.074\n",
      "Epoch  57 Batch    1/2   train_loss = 4.055\n",
      "Epoch  58 Batch    0/2   train_loss = 4.042\n",
      "Epoch  58 Batch    1/2   train_loss = 4.027\n",
      "Epoch  59 Batch    0/2   train_loss = 4.012\n",
      "Epoch  59 Batch    1/2   train_loss = 4.017\n",
      "Epoch  60 Batch    0/2   train_loss = 4.014\n",
      "Epoch  60 Batch    1/2   train_loss = 3.972\n",
      "Epoch  61 Batch    0/2   train_loss = 3.964\n",
      "Epoch  61 Batch    1/2   train_loss = 3.957\n",
      "Epoch  62 Batch    0/2   train_loss = 3.931\n",
      "Epoch  62 Batch    1/2   train_loss = 3.919\n",
      "Epoch  63 Batch    0/2   train_loss = 3.901\n",
      "Epoch  63 Batch    1/2   train_loss = 3.878\n",
      "Epoch  64 Batch    0/2   train_loss = 3.872\n",
      "Epoch  64 Batch    1/2   train_loss = 3.850\n",
      "Epoch  65 Batch    0/2   train_loss = 3.833\n",
      "Epoch  65 Batch    1/2   train_loss = 3.821\n",
      "Epoch  66 Batch    0/2   train_loss = 3.799\n",
      "Epoch  66 Batch    1/2   train_loss = 3.795\n",
      "Epoch  67 Batch    0/2   train_loss = 3.778\n",
      "Epoch  67 Batch    1/2   train_loss = 3.765\n",
      "Epoch  68 Batch    0/2   train_loss = 3.744\n",
      "Epoch  68 Batch    1/2   train_loss = 3.725\n",
      "Epoch  69 Batch    0/2   train_loss = 3.714\n",
      "Epoch  69 Batch    1/2   train_loss = 3.702\n",
      "Epoch  70 Batch    0/2   train_loss = 3.698\n",
      "Epoch  70 Batch    1/2   train_loss = 3.682\n",
      "Epoch  71 Batch    0/2   train_loss = 3.662\n",
      "Epoch  71 Batch    1/2   train_loss = 3.641\n",
      "Epoch  72 Batch    0/2   train_loss = 3.627\n",
      "Epoch  72 Batch    1/2   train_loss = 3.609\n",
      "Epoch  73 Batch    0/2   train_loss = 3.600\n",
      "Epoch  73 Batch    1/2   train_loss = 3.586\n",
      "Epoch  74 Batch    0/2   train_loss = 3.560\n",
      "Epoch  74 Batch    1/2   train_loss = 3.553\n",
      "Epoch  75 Batch    0/2   train_loss = 3.535\n",
      "Epoch  75 Batch    1/2   train_loss = 3.529\n",
      "Epoch  76 Batch    0/2   train_loss = 3.514\n",
      "Epoch  76 Batch    1/2   train_loss = 3.492\n",
      "Epoch  77 Batch    0/2   train_loss = 3.471\n",
      "Epoch  77 Batch    1/2   train_loss = 3.453\n",
      "Epoch  78 Batch    0/2   train_loss = 3.443\n",
      "Epoch  78 Batch    1/2   train_loss = 3.430\n",
      "Epoch  79 Batch    0/2   train_loss = 3.425\n",
      "Epoch  79 Batch    1/2   train_loss = 3.407\n",
      "Epoch  80 Batch    0/2   train_loss = 3.384\n",
      "Epoch  80 Batch    1/2   train_loss = 3.359\n",
      "Epoch  81 Batch    0/2   train_loss = 3.351\n",
      "Epoch  81 Batch    1/2   train_loss = 3.352\n",
      "Epoch  82 Batch    0/2   train_loss = 3.325\n",
      "Epoch  82 Batch    1/2   train_loss = 3.323\n",
      "Epoch  83 Batch    0/2   train_loss = 3.299\n",
      "Epoch  83 Batch    1/2   train_loss = 3.297\n",
      "Epoch  84 Batch    0/2   train_loss = 3.286\n",
      "Epoch  84 Batch    1/2   train_loss = 3.255\n",
      "Epoch  85 Batch    0/2   train_loss = 3.236\n",
      "Epoch  85 Batch    1/2   train_loss = 3.228\n",
      "Epoch  86 Batch    0/2   train_loss = 3.198\n",
      "Epoch  86 Batch    1/2   train_loss = 3.204\n",
      "Epoch  87 Batch    0/2   train_loss = 3.173\n",
      "Epoch  87 Batch    1/2   train_loss = 3.166\n",
      "Epoch  88 Batch    0/2   train_loss = 3.157\n",
      "Epoch  88 Batch    1/2   train_loss = 3.148\n",
      "Epoch  89 Batch    0/2   train_loss = 3.131\n",
      "Epoch  89 Batch    1/2   train_loss = 3.125\n",
      "Epoch  90 Batch    0/2   train_loss = 3.092\n",
      "Epoch  90 Batch    1/2   train_loss = 3.067\n",
      "Epoch  91 Batch    0/2   train_loss = 3.057\n",
      "Epoch  91 Batch    1/2   train_loss = 3.047\n",
      "Epoch  92 Batch    0/2   train_loss = 3.021\n",
      "Epoch  92 Batch    1/2   train_loss = 3.010\n",
      "Epoch  93 Batch    0/2   train_loss = 2.990\n",
      "Epoch  93 Batch    1/2   train_loss = 2.994\n",
      "Epoch  94 Batch    0/2   train_loss = 2.962\n",
      "Epoch  94 Batch    1/2   train_loss = 2.950\n",
      "Epoch  95 Batch    0/2   train_loss = 2.931\n",
      "Epoch  95 Batch    1/2   train_loss = 2.911\n",
      "Epoch  96 Batch    0/2   train_loss = 2.890\n",
      "Epoch  96 Batch    1/2   train_loss = 2.883\n",
      "Epoch  97 Batch    0/2   train_loss = 2.877\n",
      "Epoch  97 Batch    1/2   train_loss = 2.859\n",
      "Epoch  98 Batch    0/2   train_loss = 2.852\n",
      "Epoch  98 Batch    1/2   train_loss = 2.839\n",
      "Epoch  99 Batch    0/2   train_loss = 2.811\n",
      "Epoch  99 Batch    1/2   train_loss = 2.800\n",
      "Epoch 100 Batch    0/2   train_loss = 2.795\n",
      "Epoch 100 Batch    1/2   train_loss = 2.801\n",
      "Epoch 101 Batch    0/2   train_loss = 2.770\n",
      "Epoch 101 Batch    1/2   train_loss = 2.749\n",
      "Epoch 102 Batch    0/2   train_loss = 2.724\n",
      "Epoch 102 Batch    1/2   train_loss = 2.718\n",
      "Epoch 103 Batch    0/2   train_loss = 2.706\n",
      "Epoch 103 Batch    1/2   train_loss = 2.673\n",
      "Epoch 104 Batch    0/2   train_loss = 2.670\n",
      "Epoch 104 Batch    1/2   train_loss = 2.657\n",
      "Epoch 105 Batch    0/2   train_loss = 2.621\n",
      "Epoch 105 Batch    1/2   train_loss = 2.616\n",
      "Epoch 106 Batch    0/2   train_loss = 2.622\n",
      "Epoch 106 Batch    1/2   train_loss = 2.584\n",
      "Epoch 107 Batch    0/2   train_loss = 2.564\n",
      "Epoch 107 Batch    1/2   train_loss = 2.570\n",
      "Epoch 108 Batch    0/2   train_loss = 2.539\n",
      "Epoch 108 Batch    1/2   train_loss = 2.512\n",
      "Epoch 109 Batch    0/2   train_loss = 2.507\n",
      "Epoch 109 Batch    1/2   train_loss = 2.489\n",
      "Epoch 110 Batch    0/2   train_loss = 2.475\n",
      "Epoch 110 Batch    1/2   train_loss = 2.482\n",
      "Epoch 111 Batch    0/2   train_loss = 2.467\n",
      "Epoch 111 Batch    1/2   train_loss = 2.451\n",
      "Epoch 112 Batch    0/2   train_loss = 2.424\n",
      "Epoch 112 Batch    1/2   train_loss = 2.392\n",
      "Epoch 113 Batch    0/2   train_loss = 2.378\n",
      "Epoch 113 Batch    1/2   train_loss = 2.379\n",
      "Epoch 114 Batch    0/2   train_loss = 2.354\n",
      "Epoch 114 Batch    1/2   train_loss = 2.342\n",
      "Epoch 115 Batch    0/2   train_loss = 2.318\n",
      "Epoch 115 Batch    1/2   train_loss = 2.308\n",
      "Epoch 116 Batch    0/2   train_loss = 2.299\n",
      "Epoch 116 Batch    1/2   train_loss = 2.278\n",
      "Epoch 117 Batch    0/2   train_loss = 2.263\n",
      "Epoch 117 Batch    1/2   train_loss = 2.254\n",
      "Epoch 118 Batch    0/2   train_loss = 2.248\n",
      "Epoch 118 Batch    1/2   train_loss = 2.249\n",
      "Epoch 119 Batch    0/2   train_loss = 2.252\n",
      "Epoch 119 Batch    1/2   train_loss = 2.218\n",
      "Epoch 120 Batch    0/2   train_loss = 2.189\n",
      "Epoch 120 Batch    1/2   train_loss = 2.206\n",
      "Epoch 121 Batch    0/2   train_loss = 2.191\n",
      "Epoch 121 Batch    1/2   train_loss = 2.156\n",
      "Epoch 122 Batch    0/2   train_loss = 2.176\n",
      "Epoch 122 Batch    1/2   train_loss = 2.140\n",
      "Epoch 123 Batch    0/2   train_loss = 2.104\n",
      "Epoch 123 Batch    1/2   train_loss = 2.090\n",
      "Epoch 124 Batch    0/2   train_loss = 2.080\n",
      "Epoch 124 Batch    1/2   train_loss = 2.061\n",
      "Epoch 125 Batch    0/2   train_loss = 2.054\n",
      "Epoch 125 Batch    1/2   train_loss = 2.039\n",
      "Epoch 126 Batch    0/2   train_loss = 2.024\n",
      "Epoch 126 Batch    1/2   train_loss = 2.014\n",
      "Epoch 127 Batch    0/2   train_loss = 2.002\n",
      "Epoch 127 Batch    1/2   train_loss = 1.984\n",
      "Epoch 128 Batch    0/2   train_loss = 1.975\n",
      "Epoch 128 Batch    1/2   train_loss = 1.957\n",
      "Epoch 129 Batch    0/2   train_loss = 1.931\n",
      "Epoch 129 Batch    1/2   train_loss = 1.926\n",
      "Epoch 130 Batch    0/2   train_loss = 1.910\n",
      "Epoch 130 Batch    1/2   train_loss = 1.896\n",
      "Epoch 131 Batch    0/2   train_loss = 1.886\n",
      "Epoch 131 Batch    1/2   train_loss = 1.872\n",
      "Epoch 132 Batch    0/2   train_loss = 1.871\n",
      "Epoch 132 Batch    1/2   train_loss = 1.854\n",
      "Epoch 133 Batch    0/2   train_loss = 1.878\n",
      "Epoch 133 Batch    1/2   train_loss = 1.852\n",
      "Epoch 134 Batch    0/2   train_loss = 1.824\n",
      "Epoch 134 Batch    1/2   train_loss = 1.805\n",
      "Epoch 135 Batch    0/2   train_loss = 1.803\n",
      "Epoch 135 Batch    1/2   train_loss = 1.805\n",
      "Epoch 136 Batch    0/2   train_loss = 1.768\n",
      "Epoch 136 Batch    1/2   train_loss = 1.744\n",
      "Epoch 137 Batch    0/2   train_loss = 1.749\n",
      "Epoch 137 Batch    1/2   train_loss = 1.732\n",
      "Epoch 138 Batch    0/2   train_loss = 1.708\n",
      "Epoch 138 Batch    1/2   train_loss = 1.705\n",
      "Epoch 139 Batch    0/2   train_loss = 1.698\n",
      "Epoch 139 Batch    1/2   train_loss = 1.682\n",
      "Epoch 140 Batch    0/2   train_loss = 1.660\n",
      "Epoch 140 Batch    1/2   train_loss = 1.658\n",
      "Epoch 141 Batch    0/2   train_loss = 1.653\n",
      "Epoch 141 Batch    1/2   train_loss = 1.638\n",
      "Epoch 142 Batch    0/2   train_loss = 1.629\n",
      "Epoch 142 Batch    1/2   train_loss = 1.603\n",
      "Epoch 143 Batch    0/2   train_loss = 1.587\n",
      "Epoch 143 Batch    1/2   train_loss = 1.589\n",
      "Epoch 144 Batch    0/2   train_loss = 1.578\n",
      "Epoch 144 Batch    1/2   train_loss = 1.561\n",
      "Epoch 145 Batch    0/2   train_loss = 1.570\n",
      "Epoch 145 Batch    1/2   train_loss = 1.544\n",
      "Epoch 146 Batch    0/2   train_loss = 1.547\n",
      "Epoch 146 Batch    1/2   train_loss = 1.539\n",
      "Epoch 147 Batch    0/2   train_loss = 1.518\n",
      "Epoch 147 Batch    1/2   train_loss = 1.499\n",
      "Epoch 148 Batch    0/2   train_loss = 1.485\n",
      "Epoch 148 Batch    1/2   train_loss = 1.474\n",
      "Epoch 149 Batch    0/2   train_loss = 1.460\n",
      "Epoch 149 Batch    1/2   train_loss = 1.458\n",
      "Epoch 150 Batch    0/2   train_loss = 1.444\n",
      "Epoch 150 Batch    1/2   train_loss = 1.450\n",
      "Epoch 151 Batch    0/2   train_loss = 1.448\n",
      "Epoch 151 Batch    1/2   train_loss = 1.437\n",
      "Epoch 152 Batch    0/2   train_loss = 1.419\n",
      "Epoch 152 Batch    1/2   train_loss = 1.407\n",
      "Epoch 153 Batch    0/2   train_loss = 1.392\n",
      "Epoch 153 Batch    1/2   train_loss = 1.395\n",
      "Epoch 154 Batch    0/2   train_loss = 1.418\n",
      "Epoch 154 Batch    1/2   train_loss = 1.369\n",
      "Epoch 155 Batch    0/2   train_loss = 1.360\n",
      "Epoch 155 Batch    1/2   train_loss = 1.368\n",
      "Epoch 156 Batch    0/2   train_loss = 1.339\n",
      "Epoch 156 Batch    1/2   train_loss = 1.324\n",
      "Epoch 157 Batch    0/2   train_loss = 1.316\n",
      "Epoch 157 Batch    1/2   train_loss = 1.309\n",
      "Epoch 158 Batch    0/2   train_loss = 1.290\n",
      "Epoch 158 Batch    1/2   train_loss = 1.285\n",
      "Epoch 159 Batch    0/2   train_loss = 1.277\n",
      "Epoch 159 Batch    1/2   train_loss = 1.257\n",
      "Epoch 160 Batch    0/2   train_loss = 1.251\n",
      "Epoch 160 Batch    1/2   train_loss = 1.252\n",
      "Epoch 161 Batch    0/2   train_loss = 1.244\n",
      "Epoch 161 Batch    1/2   train_loss = 1.262\n",
      "Epoch 162 Batch    0/2   train_loss = 1.258\n",
      "Epoch 162 Batch    1/2   train_loss = 1.255\n",
      "Epoch 163 Batch    0/2   train_loss = 1.211\n",
      "Epoch 163 Batch    1/2   train_loss = 1.223\n",
      "Epoch 164 Batch    0/2   train_loss = 1.235\n",
      "Epoch 164 Batch    1/2   train_loss = 1.186\n",
      "Epoch 165 Batch    0/2   train_loss = 1.191\n",
      "Epoch 165 Batch    1/2   train_loss = 1.188\n",
      "Epoch 166 Batch    0/2   train_loss = 1.160\n",
      "Epoch 166 Batch    1/2   train_loss = 1.162\n",
      "Epoch 167 Batch    0/2   train_loss = 1.141\n",
      "Epoch 167 Batch    1/2   train_loss = 1.132\n",
      "Epoch 168 Batch    0/2   train_loss = 1.117\n",
      "Epoch 168 Batch    1/2   train_loss = 1.100\n",
      "Epoch 169 Batch    0/2   train_loss = 1.108\n",
      "Epoch 169 Batch    1/2   train_loss = 1.086\n",
      "Epoch 170 Batch    0/2   train_loss = 1.077\n",
      "Epoch 170 Batch    1/2   train_loss = 1.071\n",
      "Epoch 171 Batch    0/2   train_loss = 1.063\n",
      "Epoch 171 Batch    1/2   train_loss = 1.044\n",
      "Epoch 172 Batch    0/2   train_loss = 1.045\n",
      "Epoch 172 Batch    1/2   train_loss = 1.032\n",
      "Epoch 173 Batch    0/2   train_loss = 1.015\n",
      "Epoch 173 Batch    1/2   train_loss = 1.019\n",
      "Epoch 174 Batch    0/2   train_loss = 1.009\n",
      "Epoch 174 Batch    1/2   train_loss = 1.000\n",
      "Epoch 175 Batch    0/2   train_loss = 0.994\n",
      "Epoch 175 Batch    1/2   train_loss = 0.986\n",
      "Epoch 176 Batch    0/2   train_loss = 0.982\n",
      "Epoch 176 Batch    1/2   train_loss = 0.967\n",
      "Epoch 177 Batch    0/2   train_loss = 0.964\n",
      "Epoch 177 Batch    1/2   train_loss = 0.954\n",
      "Epoch 178 Batch    0/2   train_loss = 0.952\n",
      "Epoch 178 Batch    1/2   train_loss = 0.949\n",
      "Epoch 179 Batch    0/2   train_loss = 0.962\n",
      "Epoch 179 Batch    1/2   train_loss = 0.959\n",
      "Epoch 180 Batch    0/2   train_loss = 0.984\n",
      "Epoch 180 Batch    1/2   train_loss = 0.925\n",
      "Epoch 181 Batch    0/2   train_loss = 0.907\n",
      "Epoch 181 Batch    1/2   train_loss = 0.930\n",
      "Epoch 182 Batch    0/2   train_loss = 0.910\n",
      "Epoch 182 Batch    1/2   train_loss = 0.880\n",
      "Epoch 183 Batch    0/2   train_loss = 0.879\n",
      "Epoch 183 Batch    1/2   train_loss = 0.881\n",
      "Epoch 184 Batch    0/2   train_loss = 0.874\n",
      "Epoch 184 Batch    1/2   train_loss = 0.852\n",
      "Epoch 185 Batch    0/2   train_loss = 0.855\n",
      "Epoch 185 Batch    1/2   train_loss = 0.849\n",
      "Epoch 186 Batch    0/2   train_loss = 0.832\n",
      "Epoch 186 Batch    1/2   train_loss = 0.821\n",
      "Epoch 187 Batch    0/2   train_loss = 0.821\n",
      "Epoch 187 Batch    1/2   train_loss = 0.816\n",
      "Epoch 188 Batch    0/2   train_loss = 0.806\n",
      "Epoch 188 Batch    1/2   train_loss = 0.796\n",
      "Epoch 189 Batch    0/2   train_loss = 0.790\n",
      "Epoch 189 Batch    1/2   train_loss = 0.794\n",
      "Epoch 190 Batch    0/2   train_loss = 0.785\n",
      "Epoch 190 Batch    1/2   train_loss = 0.777\n",
      "Epoch 191 Batch    0/2   train_loss = 0.775\n",
      "Epoch 191 Batch    1/2   train_loss = 0.768\n",
      "Epoch 192 Batch    0/2   train_loss = 0.756\n",
      "Epoch 192 Batch    1/2   train_loss = 0.758\n",
      "Epoch 193 Batch    0/2   train_loss = 0.757\n",
      "Epoch 193 Batch    1/2   train_loss = 0.741\n",
      "Epoch 194 Batch    0/2   train_loss = 0.730\n",
      "Epoch 194 Batch    1/2   train_loss = 0.725\n",
      "Epoch 195 Batch    0/2   train_loss = 0.716\n",
      "Epoch 195 Batch    1/2   train_loss = 0.714\n",
      "Epoch 196 Batch    0/2   train_loss = 0.707\n",
      "Epoch 196 Batch    1/2   train_loss = 0.691\n",
      "Epoch 197 Batch    0/2   train_loss = 0.695\n",
      "Epoch 197 Batch    1/2   train_loss = 0.692\n",
      "Epoch 198 Batch    0/2   train_loss = 0.681\n",
      "Epoch 198 Batch    1/2   train_loss = 0.675\n",
      "Epoch 199 Batch    0/2   train_loss = 0.665\n",
      "Epoch 199 Batch    1/2   train_loss = 0.663\n",
      "Epoch 200 Batch    0/2   train_loss = 0.662\n",
      "Epoch 200 Batch    1/2   train_loss = 0.657\n",
      "Epoch 201 Batch    0/2   train_loss = 0.644\n",
      "Epoch 201 Batch    1/2   train_loss = 0.641\n",
      "Epoch 202 Batch    0/2   train_loss = 0.635\n",
      "Epoch 202 Batch    1/2   train_loss = 0.636\n",
      "Epoch 203 Batch    0/2   train_loss = 0.641\n",
      "Epoch 203 Batch    1/2   train_loss = 0.642\n",
      "Epoch 204 Batch    0/2   train_loss = 0.620\n",
      "Epoch 204 Batch    1/2   train_loss = 0.610\n",
      "Epoch 205 Batch    0/2   train_loss = 0.604\n",
      "Epoch 205 Batch    1/2   train_loss = 0.604\n",
      "Epoch 206 Batch    0/2   train_loss = 0.605\n",
      "Epoch 206 Batch    1/2   train_loss = 0.597\n",
      "Epoch 207 Batch    0/2   train_loss = 0.587\n",
      "Epoch 207 Batch    1/2   train_loss = 0.576\n",
      "Epoch 208 Batch    0/2   train_loss = 0.576\n",
      "Epoch 208 Batch    1/2   train_loss = 0.562\n",
      "Epoch 209 Batch    0/2   train_loss = 0.564\n",
      "Epoch 209 Batch    1/2   train_loss = 0.565\n",
      "Epoch 210 Batch    0/2   train_loss = 0.554\n",
      "Epoch 210 Batch    1/2   train_loss = 0.547\n",
      "Epoch 211 Batch    0/2   train_loss = 0.541\n",
      "Epoch 211 Batch    1/2   train_loss = 0.535\n",
      "Epoch 212 Batch    0/2   train_loss = 0.529\n",
      "Epoch 212 Batch    1/2   train_loss = 0.529\n",
      "Epoch 213 Batch    0/2   train_loss = 0.515\n",
      "Epoch 213 Batch    1/2   train_loss = 0.513\n",
      "Epoch 214 Batch    0/2   train_loss = 0.518\n",
      "Epoch 214 Batch    1/2   train_loss = 0.507\n",
      "Epoch 215 Batch    0/2   train_loss = 0.496\n",
      "Epoch 215 Batch    1/2   train_loss = 0.495\n",
      "Epoch 216 Batch    0/2   train_loss = 0.485\n",
      "Epoch 216 Batch    1/2   train_loss = 0.486\n",
      "Epoch 217 Batch    0/2   train_loss = 0.489\n",
      "Epoch 217 Batch    1/2   train_loss = 0.488\n",
      "Epoch 218 Batch    0/2   train_loss = 0.494\n",
      "Epoch 218 Batch    1/2   train_loss = 0.493\n",
      "Epoch 219 Batch    0/2   train_loss = 0.488\n",
      "Epoch 219 Batch    1/2   train_loss = 0.464\n",
      "Epoch 220 Batch    0/2   train_loss = 0.469\n",
      "Epoch 220 Batch    1/2   train_loss = 0.475\n",
      "Epoch 221 Batch    0/2   train_loss = 0.462\n",
      "Epoch 221 Batch    1/2   train_loss = 0.457\n",
      "Epoch 222 Batch    0/2   train_loss = 0.463\n",
      "Epoch 222 Batch    1/2   train_loss = 0.457\n",
      "Epoch 223 Batch    0/2   train_loss = 0.440\n",
      "Epoch 223 Batch    1/2   train_loss = 0.444\n",
      "Epoch 224 Batch    0/2   train_loss = 0.436\n",
      "Epoch 224 Batch    1/2   train_loss = 0.431\n",
      "Epoch 225 Batch    0/2   train_loss = 0.431\n",
      "Epoch 225 Batch    1/2   train_loss = 0.428\n",
      "Epoch 226 Batch    0/2   train_loss = 0.419\n",
      "Epoch 226 Batch    1/2   train_loss = 0.416\n",
      "Epoch 227 Batch    0/2   train_loss = 0.413\n",
      "Epoch 227 Batch    1/2   train_loss = 0.404\n",
      "Epoch 228 Batch    0/2   train_loss = 0.406\n",
      "Epoch 228 Batch    1/2   train_loss = 0.404\n",
      "Epoch 229 Batch    0/2   train_loss = 0.395\n",
      "Epoch 229 Batch    1/2   train_loss = 0.387\n",
      "Epoch 230 Batch    0/2   train_loss = 0.393\n",
      "Epoch 230 Batch    1/2   train_loss = 0.395\n",
      "Epoch 231 Batch    0/2   train_loss = 0.385\n",
      "Epoch 231 Batch    1/2   train_loss = 0.377\n",
      "Epoch 232 Batch    0/2   train_loss = 0.374\n",
      "Epoch 232 Batch    1/2   train_loss = 0.368\n",
      "Epoch 233 Batch    0/2   train_loss = 0.371\n",
      "Epoch 233 Batch    1/2   train_loss = 0.363\n",
      "Epoch 234 Batch    0/2   train_loss = 0.364\n",
      "Epoch 234 Batch    1/2   train_loss = 0.353\n",
      "Epoch 235 Batch    0/2   train_loss = 0.354\n",
      "Epoch 235 Batch    1/2   train_loss = 0.352\n",
      "Epoch 236 Batch    0/2   train_loss = 0.349\n",
      "Epoch 236 Batch    1/2   train_loss = 0.347\n",
      "Epoch 237 Batch    0/2   train_loss = 0.344\n",
      "Epoch 237 Batch    1/2   train_loss = 0.345\n",
      "Epoch 238 Batch    0/2   train_loss = 0.336\n",
      "Epoch 238 Batch    1/2   train_loss = 0.334\n",
      "Epoch 239 Batch    0/2   train_loss = 0.334\n",
      "Epoch 239 Batch    1/2   train_loss = 0.333\n",
      "Epoch 240 Batch    0/2   train_loss = 0.332\n",
      "Epoch 240 Batch    1/2   train_loss = 0.325\n",
      "Epoch 241 Batch    0/2   train_loss = 0.322\n",
      "Epoch 241 Batch    1/2   train_loss = 0.323\n",
      "Epoch 242 Batch    0/2   train_loss = 0.322\n",
      "Epoch 242 Batch    1/2   train_loss = 0.315\n",
      "Epoch 243 Batch    0/2   train_loss = 0.316\n",
      "Epoch 243 Batch    1/2   train_loss = 0.311\n",
      "Epoch 244 Batch    0/2   train_loss = 0.313\n",
      "Epoch 244 Batch    1/2   train_loss = 0.307\n",
      "Epoch 245 Batch    0/2   train_loss = 0.307\n",
      "Epoch 245 Batch    1/2   train_loss = 0.307\n",
      "Epoch 246 Batch    0/2   train_loss = 0.300\n",
      "Epoch 246 Batch    1/2   train_loss = 0.303\n",
      "Epoch 247 Batch    0/2   train_loss = 0.304\n",
      "Epoch 247 Batch    1/2   train_loss = 0.299\n",
      "Epoch 248 Batch    0/2   train_loss = 0.295\n",
      "Epoch 248 Batch    1/2   train_loss = 0.291\n",
      "Epoch 249 Batch    0/2   train_loss = 0.287\n",
      "Epoch 249 Batch    1/2   train_loss = 0.288\n",
      "Model Trained and Saved\n"
     ]
    }
   ],
   "source": [
    "\"\"\"\n",
    "DON'T MODIFY ANYTHING IN THIS CELL\n",
    "\"\"\"\n",
    "batches = get_batches(int_text, batch_size, seq_length)\n",
    "\n",
    "with tf.Session(graph=train_graph) as sess:\n",
    "    sess.run(tf.global_variables_initializer())\n",
    "\n",
    "    for epoch_i in range(num_epochs):\n",
    "        state = sess.run(initial_state, {input_text: batches[0][0]})\n",
    "\n",
    "        for batch_i, (x, y) in enumerate(batches):\n",
    "            feed = {\n",
    "                input_text: x,\n",
    "                targets: y,\n",
    "                initial_state: state,\n",
    "                lr: learning_rate}\n",
    "            train_loss, state, _ = sess.run([cost, final_state, train_op], feed)\n",
    "\n",
    "            # Show every <show_every_n_batches> batches\n",
    "            if (epoch_i * len(batches) + batch_i) % show_every_n_batches == 0:\n",
    "                print('Epoch {:>3} Batch {:>4}/{}   train_loss = {:.3f}'.format(\n",
    "                    epoch_i,\n",
    "                    batch_i,\n",
    "                    len(batches),\n",
    "                    train_loss))\n",
    "\n",
    "    # Save Model\n",
    "    saver = tf.train.Saver()\n",
    "    saver.save(sess, save_dir)\n",
    "    print('Model Trained and Saved')"
   ]
  },
  {
   "cell_type": "markdown",
   "metadata": {
    "deletable": true,
    "editable": true
   },
   "source": [
    "## Save Parameters\n",
    "Save `seq_length` and `save_dir` for generating a new TV script."
   ]
  },
  {
   "cell_type": "code",
   "execution_count": 81,
   "metadata": {
    "collapsed": false,
    "deletable": true,
    "editable": true
   },
   "outputs": [],
   "source": [
    "\"\"\"\n",
    "DON'T MODIFY ANYTHING IN THIS CELL\n",
    "\"\"\"\n",
    "# Save parameters for checkpoint\n",
    "helper.save_params((seq_length, save_dir))"
   ]
  },
  {
   "cell_type": "markdown",
   "metadata": {
    "deletable": true,
    "editable": true
   },
   "source": [
    "# Checkpoint"
   ]
  },
  {
   "cell_type": "code",
   "execution_count": 82,
   "metadata": {
    "collapsed": false,
    "deletable": true,
    "editable": true
   },
   "outputs": [],
   "source": [
    "\"\"\"\n",
    "DON'T MODIFY ANYTHING IN THIS CELL\n",
    "\"\"\"\n",
    "import tensorflow as tf\n",
    "import numpy as np\n",
    "import helper\n",
    "import problem_unittests as tests\n",
    "\n",
    "_, vocab_to_int, int_to_vocab, token_dict = helper.load_preprocess()\n",
    "seq_length, load_dir = helper.load_params()"
   ]
  },
  {
   "cell_type": "markdown",
   "metadata": {
    "deletable": true,
    "editable": true
   },
   "source": [
    "## Implement Generate Functions\n",
    "### Get Tensors\n",
    "Get tensors from `loaded_graph` using the function [`get_tensor_by_name()`](https://www.tensorflow.org/api_docs/python/tf/Graph#get_tensor_by_name).  Get the tensors using the following names:\n",
    "- \"input:0\"\n",
    "- \"initial_state:0\"\n",
    "- \"final_state:0\"\n",
    "- \"probs:0\"\n",
    "\n",
    "Return the tensors in the following tuple `(InputTensor, InitialStateTensor, FinalStateTensor, ProbsTensor)` "
   ]
  },
  {
   "cell_type": "code",
   "execution_count": 83,
   "metadata": {
    "collapsed": false,
    "deletable": true,
    "editable": true
   },
   "outputs": [
    {
     "name": "stdout",
     "output_type": "stream",
     "text": [
      "Tests Passed\n"
     ]
    }
   ],
   "source": [
    "def get_tensors(loaded_graph):\n",
    "    \"\"\"\n",
    "    Get input, initial state, final state, and probabilities tensor from <loaded_graph>\n",
    "    :param loaded_graph: TensorFlow graph loaded from file\n",
    "    :return: Tuple (InputTensor, InitialStateTensor, FinalStateTensor, ProbsTensor)\n",
    "    \"\"\"\n",
    "    # TODO: Implement Function\n",
    "    InputTensor = loaded_graph.get_tensor_by_name(\"input:0\")\n",
    "    InitialStateTensor = loaded_graph.get_tensor_by_name(\"initial_state:0\")\n",
    "    FinalStateTensor = loaded_graph.get_tensor_by_name(\"final_state:0\")\n",
    "    ProbsTensor = loaded_graph.get_tensor_by_name(\"probs:0\")\n",
    "    return (InputTensor, InitialStateTensor, FinalStateTensor, ProbsTensor)\n",
    "\n",
    "\n",
    "\"\"\"\n",
    "DON'T MODIFY ANYTHING IN THIS CELL THAT IS BELOW THIS LINE\n",
    "\"\"\"\n",
    "tests.test_get_tensors(get_tensors)"
   ]
  },
  {
   "cell_type": "markdown",
   "metadata": {
    "deletable": true,
    "editable": true
   },
   "source": [
    "### Choose Word\n",
    "Implement the `pick_word()` function to select the next word using `probabilities`."
   ]
  },
  {
   "cell_type": "code",
   "execution_count": 84,
   "metadata": {
    "collapsed": false,
    "deletable": true,
    "editable": true
   },
   "outputs": [
    {
     "name": "stdout",
     "output_type": "stream",
     "text": [
      "Tests Passed\n"
     ]
    }
   ],
   "source": [
    "def pick_word(probabilities, int_to_vocab):\n",
    "    \"\"\"\n",
    "    Pick the next word in the generated text\n",
    "    :param probabilities: Probabilites of the next word\n",
    "    :param int_to_vocab: Dictionary of word ids as the keys and words as the values\n",
    "    :return: String of the predicted word\n",
    "    \"\"\"\n",
    "    # TODO: Implement Function\n",
    "    max_id=np.argmax(probabilities)\n",
    "    return int_to_vocab[max_id]\n",
    "\n",
    "\n",
    "\"\"\"\n",
    "DON'T MODIFY ANYTHING IN THIS CELL THAT IS BELOW THIS LINE\n",
    "\"\"\"\n",
    "tests.test_pick_word(pick_word)"
   ]
  },
  {
   "cell_type": "markdown",
   "metadata": {
    "deletable": true,
    "editable": true
   },
   "source": [
    "## Generate TV Script\n",
    "This will generate the TV script for you.  Set `gen_length` to the length of TV script you want to generate."
   ]
  },
  {
   "cell_type": "code",
   "execution_count": 85,
   "metadata": {
    "collapsed": false,
    "deletable": true,
    "editable": true
   },
   "outputs": [
    {
     "name": "stdout",
     "output_type": "stream",
     "text": [
      "moe_szyslak: okay, and i help the last two game!\n",
      "homer_simpson: oh, sorry, it's me! i'm your beloved isotopes are when i couldn't never regretted it for drivin' for her.\n",
      "homer_simpson:(glum) big deal. i didn't even give you a beer with the while.\n",
      "seymour_skinner: the canyonero of have a place by you.\"\n",
      "moe_szyslak: everybody are it back to the wall. to wear, it was my love?\n",
      "barney_gumble: sure! but ones with that.\n",
      "moe_szyslak: oh my just!\n",
      "homer_simpson:(laughs) now, there's countin' the signal?\n",
      "homer_simpson: hey, moe, where's my\" romantic?\n",
      "moe_szyslak: nothin', nothin'. but involving you.\n",
      "moe_szyslak: okay, that could you get us out of this bar!\n",
      "homer_simpson: okay, we've gotta hand, my name.(gasp,) uh, shut up.\n",
      "moe_szyslak: yeah, taking advantage of my alcohol?\n",
      "barney_gumble: you're the smell of victory.\n",
      "moe_szyslak: okay, okay. but i'm not ashamed.\n",
      "moe_szyslak: hey, thanks.\n",
      "carl_carlson: yeah, i ain't want to represent the times, moe. you're fighting a guy like happy as a smoker taking that first time. i'm the way to wear on the wall. to eat, but where's your buttocks? i want you in my life. he floated up when you're coaster the ladies like to moe, your hero-phobia looking for bart.\n",
      "homer_simpson: barney. wrong. ivana tinkle. ivana tinkle. ivana tinkle. sorry, moe. the second... three... and he played the\n",
      "moe_szyslak: hey, homer, they ain't thinking?(offended) oh, phone, ah, this man is tonight...(pause) this is sponsoring the little girl hair know.\n",
      "homer_simpson: well, it's true. you know the man who pulled you and your daughter ain't help you up when no more. justify my love.\n",
      "homer_simpson: yeah!\n",
      "homer_simpson: oh, that's a second i do a switch) you want it to did. heavyweight championship.\n",
      "homer_simpson:(dismissive snort) call me when you kids.\n",
      "barney_gumble: oh, you're right at the to smithers) this is gonna happy with the end of the bar is closed.\n",
      "moe_szyslak: where you paid your buttocks? i want, krusty. my name didn't beat homer, i'm who gave you your idea at the\n",
      "time, moe, this is not no\n",
      "moe_szyslak: drinking, moe?\n",
      "homer_simpson:(dreamily) homer simpson at the super bowl?\n",
      "coach: you!\n",
      "homer_simpson:(laughs) i'm a genius, moe,\n"
     ]
    }
   ],
   "source": [
    "gen_length = 500\n",
    "# homer_simpson, moe_szyslak, or Barney_Gumble\n",
    "prime_word = 'moe_szyslak'\n",
    "\n",
    "\"\"\"\n",
    "DON'T MODIFY ANYTHING IN THIS CELL THAT IS BELOW THIS LINE\n",
    "\"\"\"\n",
    "loaded_graph = tf.Graph()\n",
    "with tf.Session(graph=loaded_graph) as sess:\n",
    "    # Load saved model\n",
    "    loader = tf.train.import_meta_graph(load_dir + '.meta')\n",
    "    loader.restore(sess, load_dir)\n",
    "\n",
    "    # Get Tensors from loaded model\n",
    "    input_text, initial_state, final_state, probs = get_tensors(loaded_graph)\n",
    "\n",
    "    # Sentences generation setup\n",
    "    gen_sentences = [prime_word + ':']\n",
    "    prev_state = sess.run(initial_state, {input_text: np.array([[1]])})\n",
    "\n",
    "    # Generate sentences\n",
    "    for n in range(gen_length):\n",
    "        # Dynamic Input\n",
    "        dyn_input = [[vocab_to_int[word] for word in gen_sentences[-seq_length:]]]\n",
    "        dyn_seq_length = len(dyn_input[0])\n",
    "\n",
    "        # Get Prediction\n",
    "        probabilities, prev_state = sess.run(\n",
    "            [probs, final_state],\n",
    "            {input_text: dyn_input, initial_state: prev_state})\n",
    "        \n",
    "        pred_word = pick_word(probabilities[dyn_seq_length-1], int_to_vocab)\n",
    "\n",
    "        gen_sentences.append(pred_word)\n",
    "    \n",
    "    # Remove tokens\n",
    "    tv_script = ' '.join(gen_sentences)\n",
    "    for key, token in token_dict.items():\n",
    "        ending = ' ' if key in ['\\n', '(', '\"'] else ''\n",
    "        tv_script = tv_script.replace(' ' + token.lower(), key)\n",
    "    tv_script = tv_script.replace('\\n ', '\\n')\n",
    "    tv_script = tv_script.replace('( ', '(')\n",
    "        \n",
    "    print(tv_script)"
   ]
  },
  {
   "cell_type": "markdown",
   "metadata": {
    "deletable": true,
    "editable": true
   },
   "source": [
    "# The TV Script is Nonsensical\n",
    "It's ok if the TV script doesn't make any sense.  We trained on less than a megabyte of text.  In order to get good results, you'll have to use a smaller vocabulary or get more data.  Luckly there's more data!  As we mentioned in the begging of this project, this is a subset of [another dataset](https://www.kaggle.com/wcukierski/the-simpsons-by-the-data).  We didn't have you train on all the data, because that would take too long.  However, you are free to train your neural network on all the data.  After you complete the project, of course.\n",
    "# Submitting This Project\n",
    "When submitting this project, make sure to run all the cells before saving the notebook. Save the notebook file as \"dlnd_tv_script_generation.ipynb\" and save it as a HTML file under \"File\" -> \"Download as\". Include the \"helper.py\" and \"problem_unittests.py\" files in your submission."
   ]
  },
  {
   "cell_type": "code",
   "execution_count": null,
   "metadata": {
    "collapsed": true
   },
   "outputs": [],
   "source": []
  }
 ],
 "metadata": {
  "kernelspec": {
   "display_name": "Python 3",
   "language": "python",
   "name": "python3"
  },
  "language_info": {
   "codemirror_mode": {
    "name": "ipython",
    "version": 3
   },
   "file_extension": ".py",
   "mimetype": "text/x-python",
   "name": "python",
   "nbconvert_exporter": "python",
   "pygments_lexer": "ipython3",
   "version": "3.4.5"
  },
  "widgets": {
   "state": {},
   "version": "1.1.2"
  }
 },
 "nbformat": 4,
 "nbformat_minor": 0
}
